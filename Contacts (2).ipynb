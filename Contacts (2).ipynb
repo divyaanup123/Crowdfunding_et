{
 "cells": [
  {
   "cell_type": "code",
   "execution_count": 1,
   "id": "2f35fad6-df7a-40c0-b944-6fb8e94eae67",
   "metadata": {},
   "outputs": [],
   "source": [
    "import pandas as pd\n",
    "import json"
   ]
  },
  {
   "cell_type": "code",
   "execution_count": 3,
   "id": "a5a60e70-4b9e-4bbe-b19b-a289e7eecf24",
   "metadata": {},
   "outputs": [],
   "source": [
    "contacts_df = pd.read_excel(r'C:\\Users\\Meera V\\Documents\\UT Data Bootcamp Assignments\\Project 2\\Resources\\contacts.xlsx', header=3)"
   ]
  },
  {
   "cell_type": "code",
   "execution_count": 5,
   "id": "7dd3998e-a5b0-4a98-ac90-765b77820ca5",
   "metadata": {},
   "outputs": [],
   "source": [
    "# Function to extract values from each row\n",
    "def extract_values(row):\n",
    "    contact_dict = json.loads(row['contact_info'])\n",
    "    return [contact_dict['contact_id'], contact_dict['name'], contact_dict['email']]"
   ]
  },
  {
   "cell_type": "code",
   "execution_count": 7,
   "id": "6e59145e-5367-468f-8c95-e9ff45be7d31",
   "metadata": {},
   "outputs": [],
   "source": [
    "# Apply the function to each row and create a new DataFrame\n",
    "extracted_data = contacts_df.apply(extract_values, axis=1, result_type='expand')\n",
    "extracted_df = pd.DataFrame(extracted_data.values, columns=['contact_id', 'name', 'email'])"
   ]
  },
  {
   "cell_type": "code",
   "execution_count": 9,
   "id": "e08c1780-8f61-4289-b940-ce6fd3bb1db7",
   "metadata": {},
   "outputs": [],
   "source": [
    "# Split the name into first and last name\n",
    "extracted_df[['first_name', 'last_name']] = extracted_df['name'].str.split(n=1, expand=True)"
   ]
  },
  {
   "cell_type": "code",
   "execution_count": 11,
   "id": "4a09dd5a-4d5f-46ad-9142-b5209df91ca6",
   "metadata": {},
   "outputs": [],
   "source": [
    "# Drop the original name column\n",
    "extracted_df = extracted_df.drop('name', axis=1)"
   ]
  },
  {
   "cell_type": "code",
   "execution_count": 13,
   "id": "8a6c1357-9ceb-4261-ab21-78fb15815202",
   "metadata": {},
   "outputs": [],
   "source": [
    "# Reorder columns\n",
    "extracted_df = extracted_df[['contact_id', 'first_name', 'last_name', 'email']]"
   ]
  },
  {
   "cell_type": "code",
   "execution_count": 15,
   "id": "344a1624-3f70-4a8e-91a7-2e976f81c576",
   "metadata": {},
   "outputs": [],
   "source": [
    "# Clean the DataFrame\n",
    "extracted_df = extracted_df.drop_duplicates().dropna()"
   ]
  },
  {
   "cell_type": "code",
   "execution_count": 17,
   "id": "fa5544de-21ee-48f2-8d51-37693f65e3d9",
   "metadata": {},
   "outputs": [],
   "source": [
    "# Export the cleaned DataFrame to CSV\n",
    "extracted_df.to_csv(r'C:\\Users\\Meera V\\Documents\\UT Data Bootcamp Assignments\\Project 2\\Resources\\contacts.csv', index=False)"
   ]
  },
  {
   "cell_type": "code",
   "execution_count": 31,
   "id": "f06ea765-d66f-4c0d-a061-057b244b1070",
   "metadata": {},
   "outputs": [
    {
     "name": "stdout",
     "output_type": "stream",
     "text": [
      "Data extraction and transformation completed. Here's a preview of the final DataFrame:\n",
      "  contact_id first_name last_name                         email\n",
      "0       4661    Cecilia   Velasco  cecilia.velasco@rodrigues.fr\n",
      "1       3765    Mariana     Ellis       mariana.ellis@rossi.org\n",
      "2       4187      Sofie     Woods       sofie.woods@riviere.com\n",
      "3       4941   Jeanette  Iannotti   jeanette.iannotti@yahoo.com\n",
      "4       2199     Samuel   Sorgatz      samuel.sorgatz@gmail.com\n",
      "Shape of the final DataFrame:\n",
      "(1000, 4)\n",
      "Data types of the columns:\n",
      "contact_id    object\n",
      "first_name    object\n",
      "last_name     object\n",
      "email         object\n",
      "dtype: object\n",
      "Contacts.csv has been created and saved.\n"
     ]
    }
   ],
   "source": [
    "print(\"Data extraction and transformation completed. Here's a preview of the final DataFrame:\")\n",
    "print(extracted_df.head())\n",
    "\n",
    "print(\"\\\n",
    "Shape of the final DataFrame:\")\n",
    "print(extracted_df.shape)\n",
    "\n",
    "print(\"\\\n",
    "Data types of the columns:\")\n",
    "print(extracted_df.dtypes)\n",
    "\n",
    "print(\"\\\n",
    "Contacts.csv has been created and saved.\")"
   ]
  },
  {
   "cell_type": "code",
   "execution_count": null,
   "id": "9083858b-557d-4cfe-a595-2fe8efef32c3",
   "metadata": {},
   "outputs": [],
   "source": []
  }
 ],
 "metadata": {
  "kernelspec": {
   "display_name": "Python 3 (ipykernel)",
   "language": "python",
   "name": "python3"
  },
  "language_info": {
   "codemirror_mode": {
    "name": "ipython",
    "version": 3
   },
   "file_extension": ".py",
   "mimetype": "text/x-python",
   "name": "python",
   "nbconvert_exporter": "python",
   "pygments_lexer": "ipython3",
   "version": "3.12.4"
  }
 },
 "nbformat": 4,
 "nbformat_minor": 5
}
